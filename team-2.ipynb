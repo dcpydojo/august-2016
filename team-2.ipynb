{
 "cells": [
  {
   "cell_type": "code",
   "execution_count": 27,
   "metadata": {
    "collapsed": false
   },
   "outputs": [],
   "source": [
    "import ipywidgets\n",
    "import ipyleaflet\n",
    "from IPython.display import display\n",
    "import requests\n",
    "from collections import defaultdict"
   ]
  },
  {
   "cell_type": "code",
   "execution_count": 39,
   "metadata": {
    "collapsed": false
   },
   "outputs": [],
   "source": [
    "center_of_dc = (38.898569, -77.031008)\n",
    "\n",
    "\n",
    "\n",
    "lines = {\n",
    "    'Green': {'code': 'GR', 'color': '#00FF00', 'stations': [], 'incidents': []},\n",
    "    'Red': {'code': 'RD', 'color': '#BE1337', 'stations': [], 'incidents': []},\n",
    "    'Orange': {'code': 'OR', 'color': '#DA8707', 'stations': [], 'incidents': []},\n",
    "    'Yellow': {'code': 'YL', 'color': '#F5D415', 'stations': [], 'incidents': []},\n",
    "    'Blue': {'code': 'BL', 'color': '#0795D3', 'stations': [], 'incidents': []},\n",
    "    'Silver': {'code': 'SV', 'color': '#A2A4A1', 'stations': [], 'incidents': []},\n",
    "}\n",
    "\n",
    "code2line = dict((v['code'], v) for k, v in lines.items())\n",
    "station2code = defaultdict(list)\n",
    "\n",
    "demo_key = \"6b700f7ea9db408e9745c207da7ca827\"\n",
    "incidents_url = 'https://api.wmata.com/Incidents.svc/json/ElevatorIncidents'\n",
    "\n",
    "hdrs = {'api_key': demo_key}\n",
    "incidents = requests.get(incidents_url, headers=hdrs).json()\n",
    "\n",
    "stations_url = 'https://api.wmata.com/Rail.svc/json/jStations'\n",
    "stations = requests.get(stations_url, headers=hdrs).json()\n",
    "\n",
    "for s in stations['Stations']:\n",
    "    for field in ['LineCode1', 'LineCode2', 'LineCode3', 'LineCode4']:\n",
    "        if s[field]:\n",
    "            lc = code2line[s[field]]\n",
    "            code2line[s[field]]['stations'].append(s)\n",
    "            station2code[s['Code']].append(s[field])\n",
    "\n",
    "for i in incidents['ElevatorIncidents']:\n",
    "    sc = i['StationCode']\n",
    "    for lc in station2code[sc]:\n",
    "        code2line[lc]['incidents'].append(i)\n",
    "            \n",
    "            \n",
    "map_ = None\n",
    "\n",
    "def get_line(Line):\n",
    "    global map_\n",
    "    if map_:\n",
    "        map_.clear_layers()\n",
    "        map_.close()\n",
    "    map_ = ipyleaflet.Map(default_tiles=ipyleaflet.TileLayer(opacity=1.0),\n",
    "                     center=center_of_dc, zoom=13)\n",
    "    \n",
    "    polyline = ipyleaflet.Polyline(locations=[(x['Lat'], x['Lon']) for x in Line['stations']])\n",
    "    polyline.fill_color = Line['color']\n",
    "    polyline.fill_opacity = 1.0\n",
    "    \n",
    "    map_.add_layer(polyline)\n",
    "    \n",
    "    for i in Line['incidents']:\n",
    "        marker = ipyleaflet.CircleMarker(location=center_of_dc, radius=5, weight=5,\n",
    "                                        color=Line['color'], opacity=1.0, fill_opacity=0.5,\n",
    "                                        fill_color=Line['color'])    \n",
    "        map_.add_layer(marker)\n",
    "    return map_\n",
    "\n",
    "# mark = ipyleaflet.CircleMarker(location=(), radius=int, weight=int, color='#FFF', opacity=1.0, fill_opacity=0.5,\n",
    "# fill_color='#FFF')\n",
    "# map_.add_layer(mark)\n",
    "\n",
    "choice_widget = ipywidgets.interactive(get_line, Line=lines)\n",
    "display(choice_widget)"
   ]
  },
  {
   "cell_type": "code",
   "execution_count": null,
   "metadata": {
    "collapsed": true
   },
   "outputs": [],
   "source": []
  },
  {
   "cell_type": "code",
   "execution_count": null,
   "metadata": {
    "collapsed": true
   },
   "outputs": [],
   "source": []
  },
  {
   "cell_type": "code",
   "execution_count": 3,
   "metadata": {
    "collapsed": false
   },
   "outputs": [],
   "source": []
  },
  {
   "cell_type": "code",
   "execution_count": null,
   "metadata": {
    "collapsed": true
   },
   "outputs": [],
   "source": []
  }
 ],
 "metadata": {
  "kernelspec": {
   "display_name": "Python 3",
   "language": "python",
   "name": "python3"
  },
  "language_info": {
   "codemirror_mode": {
    "name": "ipython",
    "version": 3
   },
   "file_extension": ".py",
   "mimetype": "text/x-python",
   "name": "python",
   "nbconvert_exporter": "python",
   "pygments_lexer": "ipython3",
   "version": "3.5.2"
  },
  "widgets": {
   "state": {
    "032c791c776643b9b80ab20e3faa7453": {
     "views": [
      {
       "cell_index": 1
      }
     ]
    },
    "110e2dca20c3472ca70de4f7fdf8722a": {
     "views": [
      {
       "cell_index": 1
      }
     ]
    },
    "24542ebb1f3b494b8aa8fd559e16124c": {
     "views": [
      {
       "cell_index": 1
      }
     ]
    },
    "43b6d5cfd5e74a2eb58ba548ac3c6a25": {
     "views": [
      {
       "cell_index": 1
      }
     ]
    },
    "6a288ed2533043fb8c5b0df271ceb9d9": {
     "views": [
      {
       "cell_index": 1
      }
     ]
    },
    "8691aaa2211c498391c8da35b002fadc": {
     "views": [
      {
       "cell_index": 1
      }
     ]
    },
    "887ad9524fea429c94cf8131e30f087d": {
     "views": [
      {
       "cell_index": 1
      }
     ]
    },
    "99e6edd751474c989b63baa9d4168b93": {
     "views": [
      {
       "cell_index": 1
      }
     ]
    },
    "9ee94173f1f8426cb8a5e739e5953d08": {
     "views": [
      {
       "cell_index": 1
      },
      {
       "cell_index": 1
      },
      {
       "cell_index": 1
      },
      {
       "cell_index": 1
      },
      {
       "cell_index": 1
      },
      {
       "cell_index": 1
      },
      {
       "cell_index": 1
      },
      {
       "cell_index": 1
      },
      {
       "cell_index": 1
      },
      {
       "cell_index": 1
      },
      {
       "cell_index": 1
      },
      {
       "cell_index": 1
      },
      {
       "cell_index": 1
      },
      {
       "cell_index": 1
      },
      {
       "cell_index": 1
      },
      {
       "cell_index": 1
      },
      {
       "cell_index": 1
      },
      {
       "cell_index": 1
      }
     ]
    },
    "a97ba83692a348cba4a24cf3fdc5b215": {
     "views": [
      {
       "cell_index": 1
      }
     ]
    },
    "c5e4fcc6a32d495bafdde78647396d07": {
     "views": [
      {
       "cell_index": 1
      }
     ]
    },
    "ce1abc92d56d403fa47a41c91ca84e61": {
     "views": [
      {
       "cell_index": 1
      }
     ]
    },
    "e78ae0c7d305427bb7a4bf69fc2e012c": {
     "views": [
      {
       "cell_index": 1
      }
     ]
    }
   },
   "version": "1.2.0"
  }
 },
 "nbformat": 4,
 "nbformat_minor": 0
}
